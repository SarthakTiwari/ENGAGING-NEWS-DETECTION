{
 "cells": [
  {
   "cell_type": "code",
   "execution_count": 1,
   "metadata": {},
   "outputs": [
    {
     "data": {
      "text/html": [
       "<div>\n",
       "<style scoped>\n",
       "    .dataframe tbody tr th:only-of-type {\n",
       "        vertical-align: middle;\n",
       "    }\n",
       "\n",
       "    .dataframe tbody tr th {\n",
       "        vertical-align: top;\n",
       "    }\n",
       "\n",
       "    .dataframe thead th {\n",
       "        text-align: right;\n",
       "    }\n",
       "</style>\n",
       "<table border=\"1\" class=\"dataframe\">\n",
       "  <thead>\n",
       "    <tr style=\"text-align: right;\">\n",
       "      <th></th>\n",
       "      <th>title</th>\n",
       "      <th>domain</th>\n",
       "      <th>over_18</th>\n",
       "      <th>time_submitted</th>\n",
       "      <th>submitter_id</th>\n",
       "      <th>engaging</th>\n",
       "    </tr>\n",
       "    <tr>\n",
       "      <th>id</th>\n",
       "      <th></th>\n",
       "      <th></th>\n",
       "      <th></th>\n",
       "      <th></th>\n",
       "      <th></th>\n",
       "      <th></th>\n",
       "    </tr>\n",
       "  </thead>\n",
       "  <tbody>\n",
       "    <tr>\n",
       "      <th>66683</th>\n",
       "      <td>Coronation Street spoilers: David Platt rape t...</td>\n",
       "      <td>youtube.com</td>\n",
       "      <td>0</td>\n",
       "      <td>1521358296</td>\n",
       "      <td>15336.0</td>\n",
       "      <td>0</td>\n",
       "    </tr>\n",
       "    <tr>\n",
       "      <th>42713</th>\n",
       "      <td>Japan lawmaker calls sexual harassment whistle...</td>\n",
       "      <td>japantoday.com</td>\n",
       "      <td>0</td>\n",
       "      <td>1524749734</td>\n",
       "      <td>4977.0</td>\n",
       "      <td>1</td>\n",
       "    </tr>\n",
       "    <tr>\n",
       "      <th>46874</th>\n",
       "      <td>16 Completely Improper Halloween Costumes For ...</td>\n",
       "      <td>rafaladefrumusete.info</td>\n",
       "      <td>0</td>\n",
       "      <td>1521811040</td>\n",
       "      <td>2407.0</td>\n",
       "      <td>0</td>\n",
       "    </tr>\n",
       "    <tr>\n",
       "      <th>36489</th>\n",
       "      <td>Humane prison to bring Greenland's most danger...</td>\n",
       "      <td>edition.cnn.com</td>\n",
       "      <td>0</td>\n",
       "      <td>1521305721</td>\n",
       "      <td>729.0</td>\n",
       "      <td>1</td>\n",
       "    </tr>\n",
       "    <tr>\n",
       "      <th>52038</th>\n",
       "      <td>Global Offshore Drilling Fluids Market: Indust...</td>\n",
       "      <td>satenews.com</td>\n",
       "      <td>0</td>\n",
       "      <td>1521246642</td>\n",
       "      <td>13169.0</td>\n",
       "      <td>0</td>\n",
       "    </tr>\n",
       "  </tbody>\n",
       "</table>\n",
       "</div>"
      ],
      "text/plain": [
       "                                                   title  \\\n",
       "id                                                         \n",
       "66683  Coronation Street spoilers: David Platt rape t...   \n",
       "42713  Japan lawmaker calls sexual harassment whistle...   \n",
       "46874  16 Completely Improper Halloween Costumes For ...   \n",
       "36489  Humane prison to bring Greenland's most danger...   \n",
       "52038  Global Offshore Drilling Fluids Market: Indust...   \n",
       "\n",
       "                       domain  over_18  time_submitted  submitter_id  engaging  \n",
       "id                                                                              \n",
       "66683             youtube.com        0      1521358296       15336.0         0  \n",
       "42713          japantoday.com        0      1524749734        4977.0         1  \n",
       "46874  rafaladefrumusete.info        0      1521811040        2407.0         0  \n",
       "36489         edition.cnn.com        0      1521305721         729.0         1  \n",
       "52038            satenews.com        0      1521246642       13169.0         0  "
      ]
     },
     "execution_count": 1,
     "metadata": {},
     "output_type": "execute_result"
    }
   ],
   "source": [
    "import pandas as pd\n",
    "import numpy as np\n",
    "csv= pd.read_csv(r'C:\\Users\\HP\\Desktop\\MLWARE\\train.csv',index_col = 0)\n",
    "\n",
    "csv = csv.dropna()\n",
    "csv.head()"
   ]
  },
  {
   "cell_type": "code",
   "execution_count": 2,
   "metadata": {},
   "outputs": [
    {
     "data": {
      "text/plain": [
       "id\n",
       "66683    Coronation Street spoilers: David Platt rape t...\n",
       "42713    Japan lawmaker calls sexual harassment whistle...\n",
       "46874    16 Completely Improper Halloween Costumes For ...\n",
       "36489    Humane prison to bring Greenland's most danger...\n",
       "52038    Global Offshore Drilling Fluids Market: Indust...\n",
       "Name: title, dtype: object"
      ]
     },
     "execution_count": 2,
     "metadata": {},
     "output_type": "execute_result"
    }
   ],
   "source": [
    "title=csv['title']\n",
    "title.head()"
   ]
  },
  {
   "cell_type": "code",
   "execution_count": 3,
   "metadata": {},
   "outputs": [
    {
     "name": "stdout",
     "output_type": "stream",
     "text": [
      "[[0 0 0 ... 0 0 0]\n",
      " [0 0 0 ... 0 0 0]\n",
      " [0 0 0 ... 0 0 0]\n",
      " ...\n",
      " [0 0 0 ... 0 0 0]\n",
      " [0 0 0 ... 0 0 0]\n",
      " [0 0 0 ... 0 0 0]]\n",
      "(49677, 53028)\n"
     ]
    }
   ],
   "source": [
    "from sklearn.feature_extraction.text import CountVectorizer\n",
    "\n",
    "# Construct a bag of words matrix.\n",
    "# This will lowercase everything, and ignore all punctuation by default.\n",
    "# It will also remove stop words.\n",
    "vectorizer = CountVectorizer(lowercase=True, stop_words=\"english\")\n",
    "\n",
    "matrix = vectorizer.fit_transform(title)\n",
    "\n",
    "print(matrix.todense())\n",
    "\n",
    "#  added the url of the submission to the end of the headline so we can take it into account.\n",
    "csv['full_test'] = csv[\"title\"] + \" \" + csv[\"domain\"]\n",
    "full_matrix = vectorizer.fit_transform(csv[\"full_test\"])\n",
    "print(full_matrix.shape)\n"
   ]
  },
  {
   "cell_type": "code",
   "execution_count": 4,
   "metadata": {},
   "outputs": [
    {
     "data": {
      "text/plain": [
       "(34000, 53028)"
      ]
     },
     "execution_count": 4,
     "metadata": {},
     "output_type": "execute_result"
    }
   ],
   "source": [
    "v=np.random.randint(full_matrix.shape[0], size=34000)\n",
    "full_matrix_new=full_matrix[v, :]\n",
    "full_matrix_new.shape"
   ]
  },
  {
   "cell_type": "code",
   "execution_count": 5,
   "metadata": {},
   "outputs": [],
   "source": [
    "import re\n",
    "import numpy\n",
    "# Our list of functions to apply.\n",
    "transform_functions = [\n",
    "    lambda x: len(x),\n",
    "    lambda x: x.count(\" \"),\n",
    "    lambda x: x.count(\".\"),\n",
    "    lambda x: x.count(\"!\"),\n",
    "    lambda x: x.count(\"?\"),\n",
    "    lambda x: len(x) / (x.count(\" \") + 1),\n",
    "    lambda x: x.count(\" \") / (x.count(\".\") + 1),\n",
    "    lambda x: len(re.findall(\"\\d\", x)),\n",
    "    lambda x: len(re.findall(\"[A-Z]\", x)),\n",
    "]\n",
    "\n",
    "# Apply each function and put the results into a list.\n",
    "columns = []\n",
    "for func in transform_functions:\n",
    "    columns.append(csv[\"title\"].apply(func))\n",
    "    \n",
    "# Convert the meta features to a numpy array.\n",
    "meta = numpy.asarray(columns).T"
   ]
  },
  {
   "cell_type": "code",
   "execution_count": 6,
   "metadata": {},
   "outputs": [],
   "source": [
    "submission_time = csv[\"time_submitted\"]\n",
    "y=submission_time.mean()\n",
    "submission_time=(submission_time-y)/1000000\n",
    "\n",
    "\n",
    "submission_time= numpy.asarray(submission_time).T"
   ]
  },
  {
   "cell_type": "code",
   "execution_count": 7,
   "metadata": {},
   "outputs": [],
   "source": [
    "submitter_id=csv[\"submitter_id\"]\n",
    "x=submitter_id.mean()\n",
    "submitter_id=(submitter_id-x)/1000\n",
    "submitter_id= numpy.asarray(submitter_id).T"
   ]
  },
  {
   "cell_type": "code",
   "execution_count": 8,
   "metadata": {},
   "outputs": [
    {
     "data": {
      "text/plain": [
       "(49677, 9)"
      ]
     },
     "execution_count": 8,
     "metadata": {},
     "output_type": "execute_result"
    }
   ],
   "source": [
    "meta.shape"
   ]
  },
  {
   "cell_type": "code",
   "execution_count": 9,
   "metadata": {},
   "outputs": [],
   "source": [
    "features = numpy.column_stack([submission_time[0:34000][:],submitter_id[0:34000][:], meta[0:34000][:], full_matrix_new.todense()])"
   ]
  },
  {
   "cell_type": "code",
   "execution_count": 10,
   "metadata": {},
   "outputs": [
    {
     "name": "stdout",
     "output_type": "stream",
     "text": [
      "[[0 0 0 ... 0 0 0]\n",
      " [0 0 0 ... 0 0 0]\n",
      " [0 0 0 ... 0 0 0]\n",
      " ...\n",
      " [0 0 0 ... 0 0 0]\n",
      " [0 0 0 ... 0 0 0]\n",
      " [0 0 0 ... 0 0 0]]\n",
      "(16743, 53028)\n"
     ]
    }
   ],
   "source": [
    "csv_test= pd.read_csv(r'C:\\Users\\HP\\Desktop\\MLWARE\\test.csv',index_col = 0)\n",
    "csv_test = csv_test.dropna()\n",
    "title2=csv_test['title']\n",
    "\n",
    "\n",
    "# Construct a bag of words matrix.\n",
    "# This will lowercase everything, and ignore all punctuation by default.\n",
    "# It will also remove stop words.\n",
    "\n",
    "\n",
    "matrix2 = vectorizer.transform(title2)\n",
    "\n",
    "print(matrix2.todense())\n",
    "\n",
    "\n",
    "csv_test['full_test'] = csv_test[\"title\"] + \" \" + csv_test[\"domain\"]\n",
    "full_matrix2 = vectorizer.transform(csv_test[\"full_test\"])\n",
    "print(full_matrix2.shape)\n",
    "\n",
    "columns2 = []\n",
    "for func in transform_functions:\n",
    "    columns2.append(csv_test[\"title\"].apply(func))\n",
    "    \n",
    "# Convert the meta features to a numpy array.\n",
    "meta2 = numpy.asarray(columns2).T\n",
    "\n",
    "submission_time2 = csv_test[\"time_submitted\"]\n",
    "z=submission_time2.mean()\n",
    "submission_time2=(submission_time2-z)/1000000\n",
    "\n",
    "\n",
    "submission_time2= numpy.asarray(submission_time2).T\n",
    "\n",
    "submitter_id2=csv_test[\"submitter_id\"]\n",
    "u=submitter_id2.mean()\n",
    "submitter_id2=(submitter_id2-u)/1000\n",
    "submitter_id2= numpy.asarray(submitter_id2).T\n",
    "\n",
    "features2 = numpy.column_stack([submission_time2,submitter_id2, meta2, full_matrix2.todense()])"
   ]
  },
  {
   "cell_type": "code",
   "execution_count": 11,
   "metadata": {},
   "outputs": [],
   "source": [
    "col2=csv.iloc[v,5]"
   ]
  },
  {
   "cell_type": "code",
   "execution_count": 12,
   "metadata": {},
   "outputs": [],
   "source": [
    "\n",
    "from sklearn.ensemble import RandomForestClassifier\n",
    "\n",
    "# Create the model with 100 trees\n",
    "model = RandomForestClassifier(n_estimators=100, \n",
    "                               bootstrap = True,\n",
    "                               max_features = 'sqrt')\n",
    "# Fit on training data\n",
    "model.fit(features, col2)\n",
    "predicted_classes = model.predict(features2)"
   ]
  },
  {
   "cell_type": "code",
   "execution_count": 13,
   "metadata": {},
   "outputs": [
    {
     "data": {
      "text/html": [
       "<div>\n",
       "<style scoped>\n",
       "    .dataframe tbody tr th:only-of-type {\n",
       "        vertical-align: middle;\n",
       "    }\n",
       "\n",
       "    .dataframe tbody tr th {\n",
       "        vertical-align: top;\n",
       "    }\n",
       "\n",
       "    .dataframe thead th {\n",
       "        text-align: right;\n",
       "    }\n",
       "</style>\n",
       "<table border=\"1\" class=\"dataframe\">\n",
       "  <thead>\n",
       "    <tr style=\"text-align: right;\">\n",
       "      <th></th>\n",
       "      <th>id</th>\n",
       "      <th>engaging</th>\n",
       "    </tr>\n",
       "  </thead>\n",
       "  <tbody>\n",
       "    <tr>\n",
       "      <th>0</th>\n",
       "      <td>32722</td>\n",
       "      <td>1</td>\n",
       "    </tr>\n",
       "    <tr>\n",
       "      <th>1</th>\n",
       "      <td>30618</td>\n",
       "      <td>0</td>\n",
       "    </tr>\n",
       "    <tr>\n",
       "      <th>2</th>\n",
       "      <td>9627</td>\n",
       "      <td>1</td>\n",
       "    </tr>\n",
       "    <tr>\n",
       "      <th>3</th>\n",
       "      <td>13762</td>\n",
       "      <td>0</td>\n",
       "    </tr>\n",
       "    <tr>\n",
       "      <th>4</th>\n",
       "      <td>22905</td>\n",
       "      <td>0</td>\n",
       "    </tr>\n",
       "  </tbody>\n",
       "</table>\n",
       "</div>"
      ],
      "text/plain": [
       "      id  engaging\n",
       "0  32722         1\n",
       "1  30618         0\n",
       "2   9627         1\n",
       "3  13762         0\n",
       "4  22905         0"
      ]
     },
     "execution_count": 13,
     "metadata": {},
     "output_type": "execute_result"
    }
   ],
   "source": [
    "d={'id':list(csv_test.index),'engaging':predicted_classes}\n",
    "df=pd.DataFrame(data=d)\n",
    "df.head()"
   ]
  },
  {
   "cell_type": "code",
   "execution_count": 15,
   "metadata": {},
   "outputs": [],
   "source": [
    "df.to_csv(r'C:\\Users\\HP\\Desktop\\MLWARE\\Book1.csv', index=False, header=False)"
   ]
  },
  {
   "cell_type": "code",
   "execution_count": null,
   "metadata": {},
   "outputs": [],
   "source": []
  }
 ],
 "metadata": {
  "kernelspec": {
   "display_name": "Python 3",
   "language": "python",
   "name": "python3"
  },
  "language_info": {
   "codemirror_mode": {
    "name": "ipython",
    "version": 3
   },
   "file_extension": ".py",
   "mimetype": "text/x-python",
   "name": "python",
   "nbconvert_exporter": "python",
   "pygments_lexer": "ipython3",
   "version": "3.6.5"
  }
 },
 "nbformat": 4,
 "nbformat_minor": 2
}
